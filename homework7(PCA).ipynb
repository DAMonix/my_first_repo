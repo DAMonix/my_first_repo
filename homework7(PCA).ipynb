{
 "cells": [
  {
   "cell_type": "code",
   "execution_count": 3,
   "metadata": {},
   "outputs": [],
   "source": [
    "import numpy as np\n",
    "import matplotlib.pyplot as plt\n",
    "from sklearn.datasets import load_digits\n",
    "from sklearn.decomposition import PCA\n",
    "digits = load_digits(10)\n",
    "images = digits.data.reshape(-1, 8, 8)"
   ]
  },
  {
   "cell_type": "code",
   "execution_count": 4,
   "metadata": {},
   "outputs": [],
   "source": [
    "pca = PCA(n_components=17)\n",
    "X_transformed = pca.fit_transform(digits.data.astype(float))"
   ]
  },
  {
   "cell_type": "markdown",
   "metadata": {},
   "source": [
    "#### Задача 1. Выпишите явное линейное преобразование, которое отображает точку из подространства главных компонент в исходное пространство"
   ]
  },
  {
   "cell_type": "code",
   "execution_count": 11,
   "metadata": {},
   "outputs": [
    {
     "data": {
      "image/png": "[encoded data removed]",
      "text/plain": [
       "<Figure size 432x288 with 2 Axes>"
      ]
     },
     "metadata": {
      "needs_background": "light"
     },
     "output_type": "display_data"
    }
   ],
   "source": [
    "res = np.dot(X_transformed, pca.components_) + pca.mean_\n",
    "\n",
    "i = 532\n",
    "fig, ax = plt.subplots(1, 2)\n",
    "ax[0].imshow(images[i], cmap='gray')\n",
    "ax[1].imshow(res[i].reshape(8, 8), cmap='gray')\n",
    "ax[0].set_title('Original')\n",
    "ax[1].set_title('Restored')\n",
    "plt.show()"
   ]
  },
  {
   "cell_type": "markdown",
   "metadata": {},
   "source": [
    "#### Задача 2. Определите, сколько нужно взять главных компонент, чтобы объяснить 99%, 95%, 90%, и 85% исходной дисперсии."
   ]
  },
  {
   "cell_type": "code",
   "execution_count": 27,
   "metadata": {},
   "outputs": [],
   "source": [
    "pca = PCA(n_components=64)\n",
    "X_transformed = pca.fit_transform(digits.data.astype(float))"
   ]
  },
  {
   "cell_type": "code",
   "execution_count": 31,
   "metadata": {},
   "outputs": [
    {
     "data": {
      "text/plain": [
       "[[16, 0.849402492419831],\n",
       " [17, 0.8625883844271054],\n",
       " [18, 0.8750697626053608],\n",
       " [19, 0.8852469422085766],\n",
       " [20, 0.8943031165985266],\n",
       " [21, 0.9031985012037214],\n",
       " [22, 0.9111697327690571],\n",
       " [23, 0.9188446653146943],\n",
       " [24, 0.9260737010079613],\n",
       " [25, 0.9330325895169711],\n",
       " [26, 0.9389934040973572],\n",
       " [27, 0.9447495509807577],\n",
       " [28, 0.9499011267982516],\n",
       " [29, 0.9547965245651597],\n",
       " [30, 0.9590854042457173],\n",
       " [31, 0.9628214647289736],\n",
       " [32, 0.9663542069634703],\n",
       " [33, 0.9697210468188611],\n",
       " [34, 0.9730013453241378],\n",
       " [35, 0.9760845541651597],\n",
       " [36, 0.9790223404507297],\n",
       " [37, 0.9815882265392923],\n",
       " [38, 0.983865650513623],\n",
       " [39, 0.9860884297347573],\n",
       " [40, 0.9882027336611435],\n",
       " [41, 0.9901018242795546]]"
      ]
     },
     "execution_count": 31,
     "metadata": {},
     "output_type": "execute_result"
    }
   ],
   "source": [
    "[[i,pca.explained_variance_[:i].sum() / pca.explained_variance_.sum()] for i in range(16,42)]"
   ]
  },
  {
   "cell_type": "markdown",
   "metadata": {},
   "source": [
    "Видим, что для 99% нужна 41 компонента, для 95% - 29, для 90% - 21, для 85% - 17."
   ]
  },
  {
   "cell_type": "markdown",
   "metadata": {},
   "source": [
    "#### Задача 3. Нарисуйте пример исходного изображения и результат восстановления из числа компонент, которое вы нашли в предыдущей задаче."
   ]
  },
  {
   "cell_type": "code",
   "execution_count": 43,
   "metadata": {},
   "outputs": [
    {
     "data": {
      "image/png": "[encoded data removed]",
      "text/plain": [
       "<Figure size 1080x1080 with 5 Axes>"
      ]
     },
     "metadata": {
      "needs_background": "light"
     },
     "output_type": "display_data"
    }
   ],
   "source": [
    "pca = PCA(n_components=41)\n",
    "X_transformed = pca.fit_transform(digits.data.astype(float))\n",
    "res99 = np.dot(X_transformed, pca.components_) + pca.mean_\n",
    "pca = PCA(n_components=29)\n",
    "X_transformed = pca.fit_transform(digits.data.astype(float))\n",
    "res95 = np.dot(X_transformed, pca.components_) + pca.mean_\n",
    "pca = PCA(n_components=21)\n",
    "X_transformed = pca.fit_transform(digits.data.astype(float))\n",
    "res90 = np.dot(X_transformed, pca.components_) + pca.mean_\n",
    "pca = PCA(n_components=17)\n",
    "X_transformed = pca.fit_transform(digits.data.astype(float))\n",
    "res85 = np.dot(X_transformed, pca.components_) + pca.mean_\n",
    "\n",
    "i = 532\n",
    "fig, ax = plt.subplots(1, 5, figsize=(15,15))\n",
    "ax[0].imshow(images[i], cmap='gray')\n",
    "ax[1].imshow(res99[i].reshape(8, 8), cmap='gray')\n",
    "ax[2].imshow(res95[i].reshape(8, 8), cmap='gray')\n",
    "ax[3].imshow(res90[i].reshape(8, 8), cmap='gray')\n",
    "ax[4].imshow(res85[i].reshape(8, 8), cmap='gray')\n",
    "ax[0].set_title('Original')\n",
    "ax[1].set_title('99% of explained variance')\n",
    "ax[2].set_title('95% of explained variance')\n",
    "ax[3].set_title('90% of explained variance')\n",
    "ax[4].set_title('85% of explained variance')\n",
    "plt.show()"
   ]
  },
  {
   "cell_type": "markdown",
   "metadata": {},
   "source": [
    "#### Задача 4. Предложите способ генерации новых изображений с числами и приведите примеры сгенерированных картинок."
   ]
  },
  {
   "cell_type": "markdown",
   "metadata": {},
   "source": [
    "Метод заключается в следующем: по осям главных компонент будем выбирать случайные координаты, ориентируясь на реальные картинки с цифрами."
   ]
  },
  {
   "cell_type": "code",
   "execution_count": 177,
   "metadata": {},
   "outputs": [],
   "source": [
    "pca = PCA(n_components=21)\n",
    "X_transformed = pca.fit_transform(digits.data.astype(float))"
   ]
  },
  {
   "cell_type": "code",
   "execution_count": 204,
   "metadata": {},
   "outputs": [
    {
     "data": {
      "image/png": "[encoded data removed]",
      "text/plain": [
       "<Figure size 1080x216 with 10 Axes>"
      ]
     },
     "metadata": {
      "needs_background": "light"
     },
     "output_type": "display_data"
    }
   ],
   "source": [
    "fig, ax = plt.subplots(1, 10, figsize=(15,3))\n",
    "for i in range(10):\n",
    "    x_transformed = np.array([np.random.normal(0, np.sqrt(pca.explained_variance_[i])/2) for i in range(21)])\n",
    "    x_restored = pca.inverse_transform(x_transformed)\n",
    "    ax[i].imshow(x_restored.reshape(8,8), cmap='gray')\n",
    "plt.show()"
   ]
  },
  {
   "cell_type": "markdown",
   "metadata": {},
   "source": [
    "Можно видеть, что картинки далеки от идеала, но всё же на многих получилось что-то весьма похожее на цифры. "
   ]
  }
 ],
 "metadata": {
  "kernelspec": {
   "display_name": "Python 3",
   "language": "python",
   "name": "python3"
  },
  "language_info": {
   "codemirror_mode": {
    "name": "ipython",
    "version": 3
   },
   "file_extension": ".py",
   "mimetype": "text/x-python",
   "name": "python",
   "nbconvert_exporter": "python",
   "pygments_lexer": "ipython3",
   "version": "3.7.0"
  }
 },
 "nbformat": 4,
 "nbformat_minor": 2
}
