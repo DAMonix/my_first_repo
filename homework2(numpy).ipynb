{
 "cells": [
  {
   "cell_type": "code",
   "execution_count": 2,
   "metadata": {},
   "outputs": [],
   "source": [
    "import math\n",
    "import numpy as np\n",
    "import matplotlib.pyplot as plt\n",
    "import matplotlib.cm as cm\n",
    "import random"
   ]
  },
  {
   "cell_type": "markdown",
   "metadata": {},
   "source": [
    "HOMEWORK #1\n",
    "(Создайте двумерный массив 10x3, заполненный случайными значениями. В каждой строке выберите значение, наиболее близкое к 0.5.)"
   ]
  },
  {
   "cell_type": "code",
   "execution_count": 17,
   "metadata": {},
   "outputs": [
    {
     "name": "stdout",
     "output_type": "stream",
     "text": [
      "Массив:\n",
      " [[0.9329379  0.93501534 0.23069817]\n",
      " [0.46083824 0.64137965 0.89961153]\n",
      " [0.48526334 0.48945692 0.40113533]\n",
      " [0.7754778  0.36502288 0.84743006]\n",
      " [0.57979948 0.22084792 0.21640053]\n",
      " [0.13417898 0.07441751 0.27975417]\n",
      " [0.37015193 0.44528971 0.6567355 ]\n",
      " [0.77471909 0.06638819 0.907332  ]\n",
      " [0.54109991 0.5460323  0.13729094]\n",
      " [0.11630335 0.39796165 0.0298061 ]]\n",
      "Ближайшие элементы к 0.5:\n",
      " [0.23069817 0.46083824 0.48945692 0.36502288 0.57979948 0.27975417\n",
      " 0.44528971 0.77471909 0.54109991 0.39796165]\n"
     ]
    }
   ],
   "source": [
    "B = np.random.random((10,3)) #создали массив\n",
    "print(\"Массив:\\n\",B) #напечатали массив\n",
    "A = B-0.5 #сделали вспомогательную матрицу, сдвинутую на 0.5\n",
    "A = np.array([[math.fabs(A[i][j]) for j in range(3)] for i in range(10)])\n",
    "C = np.array([B[i][np.argsort(A[i])[0]] for i in range(10)])\n",
    "print(\"Ближайшие элементы к 0.5:\\n\",C)"
   ]
  },
  {
   "cell_type": "markdown",
   "metadata": {},
   "source": [
    "HOMEWORK #2 (Создайте двумерный массив 6x6, заполненный случайными значениями. Затем сумму по каждой строке поделите на минимальный элемент из столбца с тем же индексом.)"
   ]
  },
  {
   "cell_type": "code",
   "execution_count": 13,
   "metadata": {},
   "outputs": [
    {
     "name": "stdout",
     "output_type": "stream",
     "text": [
      "Массив:\n",
      " [[0.30020899 0.2524069  0.21552872 0.38837169 0.11037516 0.2791209 ]\n",
      " [0.7131913  0.66020348 0.79482185 0.52726154 0.99608345 0.49145072]\n",
      " [0.8227565  0.1493293  0.75609078 0.08347533 0.08159895 0.76880471]\n",
      " [0.48451725 0.72156651 0.24096702 0.78725704 0.90018731 0.82788858]\n",
      " [0.75093166 0.04490351 0.98532482 0.55316272 0.36450158 0.50830163]\n",
      " [0.20403404 0.49400881 0.86212643 0.38065173 0.2311683  0.93739247]]\n",
      "Результат:\n",
      " [ 7.57722758 93.15556787 12.35128023 47.46772083 39.30352105 11.13991024]\n"
     ]
    }
   ],
   "source": [
    "A = np.random.random((6,6))\n",
    "print(\"Массив:\\n\",A)\n",
    "B = np.sum(A,axis=1)\n",
    "C = np.min(A,axis=0)\n",
    "print(\"Результат:\\n\",B/C)"
   ]
  },
  {
   "cell_type": "markdown",
   "metadata": {},
   "source": [
    "HOMEWORK #3 (На примере массива x = np.array([6, 2, 0, 3, 0, 0, 5, 7, 0]) найдите максимальный элемент в массиве среди элементов, перед которыми стоит ноль.)"
   ]
  },
  {
   "cell_type": "code",
   "execution_count": 5,
   "metadata": {},
   "outputs": [
    {
     "name": "stdout",
     "output_type": "stream",
     "text": [
      "5\n"
     ]
    }
   ],
   "source": [
    "x = np.array([6, 2, 0, 3, 0, 0, 5, 7, 0])\n",
    "y = [x[i+1] for i in range(len(x)-1) if x[i]==0]\n",
    "print(np.sort(y)[len(y)-1])"
   ]
  },
  {
   "cell_type": "markdown",
   "metadata": {},
   "source": [
    "HOMEWORK #4 (Пусть заданы два массива x = np.ones(10) и i = np.array([0, 1, 2, 3, 5, 5, 5, 8]). Прибавьте единицу к тем элементам массива x, индексы которых указаны в массиве i. В случае, если некоторый индекс встретился в массиве i несколько раз, прибавьте к соответствующему элементу массива x число вхождений данного индекса в массив i.)"
   ]
  },
  {
   "cell_type": "code",
   "execution_count": 23,
   "metadata": {},
   "outputs": [
    {
     "name": "stdout",
     "output_type": "stream",
     "text": [
      "[2 2 2 2 1 4 1 1 2 1]\n"
     ]
    }
   ],
   "source": [
    "x = np.ones(10)\n",
    "i = np.array([0, 1, 2, 3, 5, 5, 5, 8])\n",
    "ii = list(i)\n",
    "x = np.array([x[j]+ii.count(j) for j in range(10)],dtype=int)\n",
    "print(x)"
   ]
  },
  {
   "cell_type": "markdown",
   "metadata": {},
   "source": [
    "HOMEWORK #5 (Написать функцию, реализующую алгоритм k-means. Входные и выходные значения функции должны быть аналогичны https://docs.scipy.org/doc/scipy-0.15.1/reference/generated/scipy.cluster.vq.kmeans.html. Функция должна содержать не более двух циклов while (for).)"
   ]
  },
  {
   "cell_type": "code",
   "execution_count": 8,
   "metadata": {},
   "outputs": [],
   "source": [
    "def kmeans(obs, k, itr, thresh):\n",
    "    codebook_best = np.array([])\n",
    "    distortion_best = 0.0\n",
    "    \n",
    "    for iter_num in range(itr):\n",
    "        distortion = 0.0\n",
    "        codebook = np.array([])\n",
    "        \n",
    "        randlist = random.sample(range(obs.shape[0]),k)\n",
    "        codebook = np.array(obs[randlist][:])\n",
    "        \n",
    "        while(True):\n",
    "            clusterids = np.empty(k,dtype = list)\n",
    "            clusterids = [[] for i in range(k)]\n",
    "\n",
    "            #Первый шаг: для каждого элемента ищем ближаший центроид, и записываем в clusterids\n",
    "\n",
    "            sortarray = np.array([(obs[i]-codebook[j])**2 for i in range(obs.shape[0]) for j in range(k)]).reshape(obs.shape[0],k,2)\n",
    "            #в ячейке [i][j] лежит квадрат разности точек obs[i] и codebook[j]\n",
    "            verysortarray = np.sum(sortarray,axis=2)\n",
    "            #суммируем по последней координате, получаем сумму квадратов разности по x и по y, то есть квадрат расстояния между точками\n",
    "            #таким образом получили матрицу с попарными расстояниями между всеми точками и центроидами кластеров\n",
    "            clusterids = [[i for i in range(obs.shape[0]) if j==np.argsort(verysortarray[i])[0]] for j in range(k)]\n",
    "            #теперь просто в j-й кластер кладём те точки, для которых j-й центроид является ближайшим\n",
    "\n",
    "            #Второй шаг: считаем новые координаты центроидов\n",
    "\n",
    "            codebook = np.array([np.mean([obs[j] for j in clusterids[i]],axis=0) for i in range(k)])\n",
    "\n",
    "            diffmatrice2 = np.array([(obs-codebook[i])**2 for i in range(k)])\n",
    "\n",
    "            distmatrice = np.sum(diffmatrice2,axis=2) #матрица квадратов расстояний между точками и новыми кластерами\n",
    "\n",
    "            cluster_distortion_array = np.array([np.sum(np.array([distmatrice[i][clusterids[i]]])) for i in range(k)])\n",
    "            #в i-й ячейке лежит сумма квадратов расстояний от точек i-го кластера до соответствующего центроида\n",
    "\n",
    "            if (math.fabs(distortion-np.sum(cluster_distortion_array)) < thresh):\n",
    "                distortion = np.sum(cluster_distortion_array)\n",
    "                break\n",
    "                #если улучшение меньше thresh, то останавливаемся\n",
    "            else:\n",
    "                distortion = np.sum(cluster_distortion_array)\n",
    "                #иначе просто перезаписываем distortion и продолжаем\n",
    "                \n",
    "        #Если получили лучший результат (ну или если только первая итерация), то записываем\n",
    "        if iter_num==0:\n",
    "            distortion_best = distortion\n",
    "            codebook_best = np.array(codebook)\n",
    "        elif distortion<distortion_best:\n",
    "            distortion_best = distortion\n",
    "            codebook_best = np.array(codebook)\n",
    "    \n",
    "    return [codebook_best,distortion_best]"
   ]
  },
  {
   "cell_type": "markdown",
   "metadata": {},
   "source": [
    "HOMEWORK #6 (С помощью реализованной функции kmeans выделить кластеры клиентов в разрезах возраст-доход, возрвст-покупательский индекс, доход-покупательский индекс. В каждом случае использовать elbow method для определения оптимального числа кластеров. Визуализировать полученные кластеры (каждый кластер изобразить собственным цветом). Дать интерпретацию полученным кластерам.)"
   ]
  },
  {
   "cell_type": "code",
   "execution_count": 9,
   "metadata": {},
   "outputs": [],
   "source": [
    "url = 'https://raw.githubusercontent.com/sharmaroshan/Clustering-of-Mall-Customers/master/Mall_Customers.csv'\n",
    "data = np.loadtxt(url, delimiter=',', dtype=object, skiprows=1)\n",
    "data[:, 1] = data[:, 1] == 'Male'\n",
    "data = data.astype(float)"
   ]
  },
  {
   "cell_type": "markdown",
   "metadata": {},
   "source": [
    "Итак, сначала разберём разрез возраст-доход"
   ]
  },
  {
   "cell_type": "code",
   "execution_count": 10,
   "metadata": {},
   "outputs": [],
   "source": [
    "OBS = np.array([np.array([data[i][2],data[i][3]]) for i in range(data.shape[0])])"
   ]
  },
  {
   "cell_type": "markdown",
   "metadata": {},
   "source": [
    "Посмотрим на показатель distortion при разбиении данных на k кластеров, когда k меняется от 2 до 7:"
   ]
  },
  {
   "cell_type": "code",
   "execution_count": 17,
   "metadata": {},
   "outputs": [
    {
     "data": {
      "text/plain": [
       "87121.56591478697"
      ]
     },
     "execution_count": 17,
     "metadata": {},
     "output_type": "execute_result"
    }
   ],
   "source": [
    "kmeans(OBS,2,50,0.1)[1]"
   ]
  },
  {
   "cell_type": "code",
   "execution_count": 18,
   "metadata": {},
   "outputs": [
    {
     "data": {
      "text/plain": [
       "59486.961439280356"
      ]
     },
     "execution_count": 18,
     "metadata": {},
     "output_type": "execute_result"
    }
   ],
   "source": [
    "kmeans(OBS,3,50,0.1)[1]"
   ]
  },
  {
   "cell_type": "code",
   "execution_count": 20,
   "metadata": {},
   "outputs": [
    {
     "data": {
      "text/plain": [
       "39529.88796736351"
      ]
     },
     "execution_count": 20,
     "metadata": {},
     "output_type": "execute_result"
    }
   ],
   "source": [
    "kmeans(OBS,4,50,0.1)[1]"
   ]
  },
  {
   "cell_type": "code",
   "execution_count": 21,
   "metadata": {},
   "outputs": [
    {
     "data": {
      "text/plain": [
       "31659.353138717815"
      ]
     },
     "execution_count": 21,
     "metadata": {},
     "output_type": "execute_result"
    }
   ],
   "source": [
    "kmeans(OBS,5,50,0.1)[1]"
   ]
  },
  {
   "cell_type": "code",
   "execution_count": 22,
   "metadata": {},
   "outputs": [
    {
     "data": {
      "text/plain": [
       "25399.02200441698"
      ]
     },
     "execution_count": 22,
     "metadata": {},
     "output_type": "execute_result"
    }
   ],
   "source": [
    "kmeans(OBS,6,50,0.1)[1]"
   ]
  },
  {
   "cell_type": "code",
   "execution_count": 23,
   "metadata": {},
   "outputs": [
    {
     "data": {
      "text/plain": [
       "21917.19272406117"
      ]
     },
     "execution_count": 23,
     "metadata": {},
     "output_type": "execute_result"
    }
   ],
   "source": [
    "kmeans(OBS,7,50,0.1)[1]"
   ]
  },
  {
   "cell_type": "markdown",
   "metadata": {},
   "source": [
    "Видно, что elbow method подсказывает нам взять количество кластеров равным k=4"
   ]
  },
  {
   "cell_type": "markdown",
   "metadata": {},
   "source": [
    "Напишем функцию для визуализации кластеризации:"
   ]
  },
  {
   "cell_type": "code",
   "execution_count": 30,
   "metadata": {},
   "outputs": [],
   "source": [
    "def cute_pic(obs, k, itr, thresh):\n",
    "    km = kmeans(obs,k,itr,thresh)\n",
    "    codebook = np.array(km[0])\n",
    "    \n",
    "    sortarray = np.array([(obs[i]-codebook[j])**2 for i in range(obs.shape[0]) for j in range(k)]).reshape(obs.shape[0],k,2)\n",
    "    verysortarray = np.sum(sortarray,axis=2)\n",
    "    clusterids = [[i for i in range(obs.shape[0]) if j==np.argsort(verysortarray[i])[0]] for j in range(k)]\n",
    "    \n",
    "    colors = cm.rainbow(np.linspace(0,1,k))\n",
    "    \n",
    "    for i,c in zip(range(k),colors):\n",
    "        cluster = np.array(obs[clusterids[i][:]])\n",
    "        plt.scatter(*cluster.T, color = c)"
   ]
  },
  {
   "cell_type": "markdown",
   "metadata": {},
   "source": [
    "Теперь используем её для создания картинки:"
   ]
  },
  {
   "cell_type": "code",
   "execution_count": 32,
   "metadata": {},
   "outputs": [
    {
     "data": {
      "image/png": "[encoded data removed]",
      "text/plain": [
       "<Figure size 432x288 with 1 Axes>"
      ]
     },
     "metadata": {
      "needs_background": "light"
     },
     "output_type": "display_data"
    }
   ],
   "source": [
    "cute_pic(OBS,4,100,0.1)"
   ]
  },
  {
   "cell_type": "markdown",
   "metadata": {},
   "source": [
    "Выделяются 4 группы покупателей: 1)Богатые (доход от 90 тыс.); 2)Молодые среднего достатка (возраст до 50, доход от 50 до 90 тыс.); 3)Пожилые (возраст от 45 лет); 4)Молодые бедные (возраст до 50 лет, доход до 50 тыс.)"
   ]
  },
  {
   "cell_type": "markdown",
   "metadata": {},
   "source": [
    "Теперь посмотрим на данные в разрезе возраст-покупательский индекс:"
   ]
  },
  {
   "cell_type": "code",
   "execution_count": 35,
   "metadata": {},
   "outputs": [],
   "source": [
    "OBS = np.array([np.array([data[i][2],data[i][4]]) for i in range(data.shape[0])])"
   ]
  },
  {
   "cell_type": "markdown",
   "metadata": {},
   "source": [
    "Посмотрим на показатель distortion при разбиении данных на k кластеров, когда k меняется от 2 до 6:"
   ]
  },
  {
   "cell_type": "code",
   "execution_count": 36,
   "metadata": {},
   "outputs": [
    {
     "data": {
      "text/plain": [
       "75949.15601023019"
      ]
     },
     "execution_count": 36,
     "metadata": {},
     "output_type": "execute_result"
    }
   ],
   "source": [
    "kmeans(OBS,2,50,0.1)[1]"
   ]
  },
  {
   "cell_type": "code",
   "execution_count": 37,
   "metadata": {},
   "outputs": [
    {
     "data": {
      "text/plain": [
       "45840.67661610867"
      ]
     },
     "execution_count": 37,
     "metadata": {},
     "output_type": "execute_result"
    }
   ],
   "source": [
    "kmeans(OBS,3,50,0.1)[1]"
   ]
  },
  {
   "cell_type": "code",
   "execution_count": 39,
   "metadata": {},
   "outputs": [
    {
     "data": {
      "text/plain": [
       "28165.58356662934"
      ]
     },
     "execution_count": 39,
     "metadata": {},
     "output_type": "execute_result"
    }
   ],
   "source": [
    "kmeans(OBS,4,50,0.1)[1]"
   ]
  },
  {
   "cell_type": "code",
   "execution_count": 40,
   "metadata": {},
   "outputs": [
    {
     "data": {
      "text/plain": [
       "23810.46223307137"
      ]
     },
     "execution_count": 40,
     "metadata": {},
     "output_type": "execute_result"
    }
   ],
   "source": [
    "kmeans(OBS,5,50,0.1)[1]"
   ]
  },
  {
   "cell_type": "code",
   "execution_count": 44,
   "metadata": {},
   "outputs": [
    {
     "data": {
      "text/plain": [
       "19489.643884468675"
      ]
     },
     "execution_count": 44,
     "metadata": {},
     "output_type": "execute_result"
    }
   ],
   "source": [
    "kmeans(OBS,6,50,0.1)[1]"
   ]
  },
  {
   "cell_type": "markdown",
   "metadata": {},
   "source": [
    "Кажется, руководствуясь elbow method, мы опять должны выбрать число кластеров, равное 4"
   ]
  },
  {
   "cell_type": "code",
   "execution_count": 45,
   "metadata": {},
   "outputs": [
    {
     "data": {
      "image/png": "[encoded data removed]",
      "text/plain": [
       "<Figure size 432x288 with 1 Axes>"
      ]
     },
     "metadata": {
      "needs_background": "light"
     },
     "output_type": "display_data"
    }
   ],
   "source": [
    "cute_pic(OBS,4,100,0.1)"
   ]
  },
  {
   "cell_type": "markdown",
   "metadata": {},
   "source": [
    "Видим 4 чёткие группы людей: 1)Люди с высоким покупательским индексом; 2)Люди с низким покупательским индексом; 3)Люди со средним покупательским индексом до 45 лет; 4)Люди со средним покупательским индексом от 45 лет"
   ]
  },
  {
   "cell_type": "markdown",
   "metadata": {},
   "source": [
    "Наконец, проанализируем покупателей в разрезе доход-покупательский индекс"
   ]
  },
  {
   "cell_type": "code",
   "execution_count": 48,
   "metadata": {},
   "outputs": [],
   "source": [
    "OBS = np.array([np.array([data[i][3],data[i][4]]) for i in range(data.shape[0])])"
   ]
  },
  {
   "cell_type": "markdown",
   "metadata": {},
   "source": [
    "Посмотрим на показатель distortion при разбиении данных на k кластеров, когда k меняется от 2 до 7:"
   ]
  },
  {
   "cell_type": "code",
   "execution_count": 49,
   "metadata": {},
   "outputs": [
    {
     "data": {
      "text/plain": [
       "181363.59595959593"
      ]
     },
     "execution_count": 49,
     "metadata": {},
     "output_type": "execute_result"
    }
   ],
   "source": [
    "kmeans(OBS,2,50,0.1)[1]"
   ]
  },
  {
   "cell_type": "code",
   "execution_count": 50,
   "metadata": {},
   "outputs": [
    {
     "data": {
      "text/plain": [
       "106348.37306211118"
      ]
     },
     "execution_count": 50,
     "metadata": {},
     "output_type": "execute_result"
    }
   ],
   "source": [
    "kmeans(OBS,3,50,0.1)[1]"
   ]
  },
  {
   "cell_type": "code",
   "execution_count": 51,
   "metadata": {},
   "outputs": [
    {
     "data": {
      "text/plain": [
       "73679.78903948834"
      ]
     },
     "execution_count": 51,
     "metadata": {},
     "output_type": "execute_result"
    }
   ],
   "source": [
    "kmeans(OBS,4,50,0.1)[1]"
   ]
  },
  {
   "cell_type": "code",
   "execution_count": 52,
   "metadata": {},
   "outputs": [
    {
     "data": {
      "text/plain": [
       "44448.4554479337"
      ]
     },
     "execution_count": 52,
     "metadata": {},
     "output_type": "execute_result"
    }
   ],
   "source": [
    "kmeans(OBS,5,50,0.1)[1]"
   ]
  },
  {
   "cell_type": "code",
   "execution_count": 53,
   "metadata": {},
   "outputs": [
    {
     "data": {
      "text/plain": [
       "37233.814510710006"
      ]
     },
     "execution_count": 53,
     "metadata": {},
     "output_type": "execute_result"
    }
   ],
   "source": [
    "kmeans(OBS,6,50,0.1)[1]"
   ]
  },
  {
   "cell_type": "code",
   "execution_count": 54,
   "metadata": {},
   "outputs": [
    {
     "data": {
      "text/plain": [
       "30241.34361793658"
      ]
     },
     "execution_count": 54,
     "metadata": {},
     "output_type": "execute_result"
    }
   ],
   "source": [
    "kmeans(OBS,7,50,0.1)[1]"
   ]
  },
  {
   "cell_type": "markdown",
   "metadata": {},
   "source": [
    "Видим явный перелом при k=5, выбираем это число"
   ]
  },
  {
   "cell_type": "code",
   "execution_count": 56,
   "metadata": {},
   "outputs": [
    {
     "data": {
      "image/png": "[encoded data removed]",
      "text/plain": [
       "<Figure size 432x288 with 1 Axes>"
      ]
     },
     "metadata": {
      "needs_background": "light"
     },
     "output_type": "display_data"
    }
   ],
   "source": [
    "cute_pic(OBS,5,100,0.1)"
   ]
  },
  {
   "cell_type": "markdown",
   "metadata": {},
   "source": [
    "5 кластеров: 1)Люди с низкими доходами и низким ПИ; 2)Люди с низкими доходами и высоким ПИ; 3)Люди со средними доходами и средним ПИ; 4)Люди с высокими доходами и низким ПИ; 5)Люди с высокими доходами и высоким ПИ"
   ]
  }
 ],
 "metadata": {
  "kernelspec": {
   "display_name": "Python 3",
   "language": "python",
   "name": "python3"
  },
  "language_info": {
   "codemirror_mode": {
    "name": "ipython",
    "version": 3
   },
   "file_extension": ".py",
   "mimetype": "text/x-python",
   "name": "python",
   "nbconvert_exporter": "python",
   "pygments_lexer": "ipython3",
   "version": "3.7.0"
  }
 },
 "nbformat": 4,
 "nbformat_minor": 2
}
