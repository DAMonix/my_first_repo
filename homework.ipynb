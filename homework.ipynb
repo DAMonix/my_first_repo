{
 "cells": [
  {
   "cell_type": "code",
   "execution_count": 5,
   "metadata": {},
   "outputs": [],
   "source": [
    "class Test:\n",
    "    @staticmethod\n",
    "    def assert_equals(a,b,*args,**kwargs):\n",
    "        assert a==b\n",
    "        print('Passed')"
   ]
  },
  {
   "cell_type": "markdown",
   "metadata": {},
   "source": [
    "Problem https://edabit.com/challenge/2X2uZysLJ3CpsxLDD (1 point)"
   ]
  },
  {
   "cell_type": "code",
   "execution_count": 6,
   "metadata": {},
   "outputs": [],
   "source": [
    "import math\n",
    "def radians_to_degrees(rad):\n",
    "    return round(rad*180/math.pi,1)"
   ]
  },
  {
   "cell_type": "code",
   "execution_count": 8,
   "metadata": {},
   "outputs": [
    {
     "name": "stdout",
     "output_type": "stream",
     "text": [
      "Passed\n",
      "Passed\n",
      "Passed\n",
      "Passed\n",
      "Passed\n",
      "Passed\n"
     ]
    }
   ],
   "source": [
    "Test.assert_equals(radians_to_degrees(1), 57.3)\n",
    "Test.assert_equals(radians_to_degrees(5), 286.5)\n",
    "Test.assert_equals(radians_to_degrees(7), 401.1)\n",
    "Test.assert_equals(radians_to_degrees(60), 3437.7)\n",
    "Test.assert_equals(radians_to_degrees(100), 5729.6)\n",
    "Test.assert_equals(radians_to_degrees(180), 10313.2)"
   ]
  },
  {
   "cell_type": "markdown",
   "metadata": {},
   "source": [
    "Problem https://edabit.com/challenge/HYjQKDXFfeppcWmLX (1 point)"
   ]
  },
  {
   "cell_type": "code",
   "execution_count": 9,
   "metadata": {},
   "outputs": [],
   "source": [
    "def is_curzon(n):\n",
    "    r = (2**n+1)%(2*n+1)\n",
    "    if r==0:\n",
    "        return True\n",
    "    else:\n",
    "        return False"
   ]
  },
  {
   "cell_type": "code",
   "execution_count": 10,
   "metadata": {},
   "outputs": [
    {
     "name": "stdout",
     "output_type": "stream",
     "text": [
      "Passed\n",
      "Passed\n",
      "Passed\n",
      "Passed\n",
      "Passed\n",
      "Passed\n",
      "Passed\n",
      "Passed\n",
      "Passed\n"
     ]
    }
   ],
   "source": [
    "Test.assert_equals(is_curzon(5), True)\n",
    "Test.assert_equals(is_curzon(10), False)\n",
    "Test.assert_equals(is_curzon(14), True)\n",
    "Test.assert_equals(is_curzon(86), True)\n",
    "Test.assert_equals(is_curzon(90), True)\n",
    "Test.assert_equals(is_curzon(115), False)\n",
    "Test.assert_equals(is_curzon(120), False)\n",
    "Test.assert_equals(is_curzon(194), True)\n",
    "Test.assert_equals(is_curzon(293), True)"
   ]
  },
  {
   "cell_type": "markdown",
   "metadata": {},
   "source": [
    "Problem https://edabit.com/challenge/3DAkZHv2LZjgqWbvW (2 points)"
   ]
  },
  {
   "cell_type": "code",
   "execution_count": 11,
   "metadata": {},
   "outputs": [],
   "source": [
    "def is_adjacent(matrix, node1, node2):\n",
    "    if matrix[node1][node2]==0:\n",
    "        return False\n",
    "    else:\n",
    "        return True"
   ]
  },
  {
   "cell_type": "code",
   "execution_count": 12,
   "metadata": {},
   "outputs": [
    {
     "name": "stdout",
     "output_type": "stream",
     "text": [
      "Passed\n",
      "Passed\n",
      "Passed\n",
      "Passed\n",
      "Passed\n",
      "Passed\n"
     ]
    }
   ],
   "source": [
    "matrix = [[0,1,0,0],[1,0,1,1],[0,1,0,1],[0,1,1,0]]\n",
    "Test.assert_equals(is_adjacent(matrix, 0, 1), True)\n",
    "Test.assert_equals(is_adjacent(matrix, 0, 2), False)\n",
    "Test.assert_equals(is_adjacent(matrix, 2, 1), True)\n",
    "\n",
    "matrix = [[0,1,0,1,1], [1,0,1,0,0],[0,1,0,1,0],[1,0,1,0,1],[1,0,0,1,0]]\n",
    "Test.assert_equals(is_adjacent(matrix, 0, 3), True)\n",
    "Test.assert_equals(is_adjacent(matrix, 1, 4), False)\n",
    "Test.assert_equals(is_adjacent(matrix, 3, 2), True)"
   ]
  },
  {
   "cell_type": "markdown",
   "metadata": {},
   "source": [
    "Problem https://edabit.com/challenge/2zKetgAJp4WRFXiDT (2 points)"
   ]
  },
  {
   "cell_type": "code",
   "execution_count": 28,
   "metadata": {},
   "outputs": [],
   "source": [
    "def number_length(num):\n",
    "    i = 0\n",
    "    if num == 0:\n",
    "        return 1\n",
    "    else:\n",
    "        while num != 0:\n",
    "            num = num//10\n",
    "            i += 1\n",
    "    return i"
   ]
  },
  {
   "cell_type": "code",
   "execution_count": 29,
   "metadata": {},
   "outputs": [
    {
     "name": "stdout",
     "output_type": "stream",
     "text": [
      "Passed\n",
      "Passed\n",
      "Passed\n",
      "Passed\n",
      "Passed\n",
      "Passed\n",
      "Passed\n"
     ]
    }
   ],
   "source": [
    "Test.assert_equals(number_length(10), 2)\n",
    "Test.assert_equals(number_length(5000), 4)\n",
    "Test.assert_equals(number_length(0), 1)\n",
    "Test.assert_equals(number_length(4039182), 7)\n",
    "Test.assert_equals(number_length(9999999999999999), 16)\n",
    "Test.assert_equals(number_length(1), 1)\n",
    "Test.assert_equals(number_length(777777777777777777777777777777), 30)"
   ]
  },
  {
   "cell_type": "markdown",
   "metadata": {},
   "source": [
    "Problem https://edabit.com/challenge/WXqH9qvvGkmx4dMvp (2 points)"
   ]
  },
  {
   "cell_type": "code",
   "execution_count": 30,
   "metadata": {},
   "outputs": [],
   "source": [
    "def fizz_buzz(num):\n",
    "    if num%3==0:\n",
    "        if num%5==0:\n",
    "            return \"FizzBuzz\"\n",
    "        else:\n",
    "            return \"Fizz\"\n",
    "    elif num%5==0:\n",
    "        return \"Buzz\"\n",
    "    else:\n",
    "        return str(num)"
   ]
  },
  {
   "cell_type": "code",
   "execution_count": 31,
   "metadata": {},
   "outputs": [
    {
     "name": "stdout",
     "output_type": "stream",
     "text": [
      "Passed\n",
      "Passed\n",
      "Passed\n",
      "Passed\n",
      "Passed\n"
     ]
    }
   ],
   "source": [
    "Test.assert_equals(fizz_buzz(3), \"Fizz\", \"You gave \" + fizz_buzz(3) + \" and Fizz was needed\")\n",
    "Test.assert_equals(fizz_buzz(5), \"Buzz\", \"You gave \" + fizz_buzz(5) + \" and Buzz was needed\")\n",
    "Test.assert_equals(fizz_buzz(15), \"FizzBuzz\", \"You gave \" + fizz_buzz(15) + \" and FizzBuzz was needed\")\n",
    "Test.assert_equals(fizz_buzz(10), \"Buzz\", \"You gave \" + fizz_buzz(10) + \" and Buzz was needed\")\n",
    "Test.assert_equals(fizz_buzz(98), \"98\", \"You gave \" + fizz_buzz(98) + \" and 98 was needed\")"
   ]
  },
  {
   "cell_type": "markdown",
   "metadata": {},
   "source": [
    "Problem https://edabit.com/challenge/MGALfBAXhXqqdFyqo (4 points)"
   ]
  },
  {
   "cell_type": "code",
   "execution_count": 42,
   "metadata": {},
   "outputs": [],
   "source": [
    "def atbash(txt):\n",
    "    ciph = {\"A\":\"Z\",\"B\":\"Y\",\"C\":\"X\",\"D\":\"W\",\"E\":\"V\",\"F\":\"U\",\"G\":\"T\",\n",
    "           \"H\":\"S\",\"I\":\"R\",\"J\":\"Q\",\"K\":\"P\",\"L\":\"O\",\"M\":\"N\",\"N\":\"M\",\n",
    "           \"O\":\"L\",\"P\":\"K\",\"Q\":\"J\",\"R\":\"I\",\"S\":\"H\",\"T\":\"G\",\"U\":\"F\",\n",
    "           \"V\":\"E\",\"W\":\"D\",\"X\":\"C\",\"Y\":\"B\",\"Z\":\"A\",\n",
    "           \"a\":\"z\",\"b\":\"y\",\"c\":\"x\",\"d\":\"w\",\"e\":\"v\",\"f\":\"u\",\"g\":\"t\",\n",
    "           \"h\":\"s\",\"i\":\"r\",\"j\":\"q\",\"k\":\"p\",\"l\":\"o\",\"m\":\"n\",\"n\":\"m\",\n",
    "           \"o\":\"l\",\"p\":\"k\",\"q\":\"j\",\"r\":\"i\",\"s\":\"h\",\"t\":\"g\",\"u\":\"f\",\n",
    "           \"v\":\"e\",\"w\":\"d\",\"x\":\"c\",\"y\":\"b\",\"z\":\"a\"}\n",
    "    result = \"\"\n",
    "    for letter in txt:\n",
    "        result += ciph.get(letter,letter)\n",
    "    return result"
   ]
  },
  {
   "cell_type": "code",
   "execution_count": 45,
   "metadata": {},
   "outputs": [
    {
     "name": "stdout",
     "output_type": "stream",
     "text": [
      "Passed\n",
      "Passed\n",
      "Passed\n",
      "Passed\n"
     ]
    }
   ],
   "source": [
    "Test.assert_equals(atbash(\"abcdefghijklmnopqrstuvwxyz\"), \"zyxwvutsrqponmlkjihgfedcba\")\n",
    "Test.assert_equals(atbash(\"ABCDEFGHIJKLMNOPQRSTUVWXYZ\"), \"ZYXWVUTSRQPONMLKJIHGFEDCBA\")\n",
    "Test.assert_equals(atbash(\"The word 'atbash' derives from the the first and last 2 letters of the Hebrew alphabet.\"), \"Gsv dliw 'zgyzhs' wvirevh uiln gsv gsv urihg zmw ozhg 2 ovggvih lu gsv Svyivd zokszyvg.\")\n",
    "Test.assert_equals(atbash(\"Vmxibkgrlm zmw wvxibkgrlm ziv rwvmgrxzo uli gsv Zgyzhs xrksvi.\"),\"Encryption and decryption are identical for the Atbash cipher.\")"
   ]
  },
  {
   "cell_type": "markdown",
   "metadata": {},
   "source": [
    "Problem https://edabit.com/challenge/Y5Ji2HDnQTX7MxeHt (3 points)"
   ]
  },
  {
   "cell_type": "code",
   "execution_count": 52,
   "metadata": {},
   "outputs": [],
   "source": [
    "def snakefill(n):\n",
    "    num = n*n\n",
    "    i = -1\n",
    "    while num != 0:\n",
    "        num = num//2\n",
    "        i += 1\n",
    "    return i"
   ]
  },
  {
   "cell_type": "code",
   "execution_count": 54,
   "metadata": {},
   "outputs": [
    {
     "name": "stdout",
     "output_type": "stream",
     "text": [
      "Passed\n",
      "Passed\n",
      "Passed\n",
      "Passed\n",
      "Passed\n",
      "Passed\n"
     ]
    }
   ],
   "source": [
    "Test.assert_equals(snakefill(8), 6)\n",
    "Test.assert_equals(snakefill(18), 8)\n",
    "Test.assert_equals(snakefill(555), 18)\n",
    "Test.assert_equals(snakefill(2), 2)\n",
    "Test.assert_equals(snakefill(1), 0)\n",
    "Test.assert_equals(snakefill(900), 19)"
   ]
  }
 ],
 "metadata": {
  "kernelspec": {
   "display_name": "Python 3",
   "language": "python",
   "name": "python3"
  },
  "language_info": {
   "codemirror_mode": {
    "name": "ipython",
    "version": 3
   },
   "file_extension": ".py",
   "mimetype": "text/x-python",
   "name": "python",
   "nbconvert_exporter": "python",
   "pygments_lexer": "ipython3",
   "version": "3.7.0"
  }
 },
 "nbformat": 4,
 "nbformat_minor": 2
}
